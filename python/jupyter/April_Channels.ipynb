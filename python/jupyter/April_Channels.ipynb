{
 "cells": [
  {
   "cell_type": "markdown",
   "id": "75531e86",
   "metadata": {},
   "source": [
    "# Imports"
   ]
  },
  {
   "cell_type": "code",
   "execution_count": 73,
   "id": "297e3ca4",
   "metadata": {},
   "outputs": [],
   "source": [
    "import pandas as pd\n",
    "import matplotlib.pyplot as plt"
   ]
  },
  {
   "cell_type": "markdown",
   "id": "1d1e6940",
   "metadata": {},
   "source": [
    "# open file"
   ]
  },
  {
   "cell_type": "code",
   "execution_count": 74,
   "id": "e2a5594c",
   "metadata": {},
   "outputs": [
    {
     "name": "stdout",
     "output_type": "stream",
     "text": [
      "     Rank         Channel  Avg. Viewers  Time Streamed  All-Time Peak Viewers  \\\n",
      "0      #1           xQcOW         89542          333.7                 222720   \n",
      "1      #2      tommyinnit        258561           10.9                 650237   \n",
      "2      #3       auronplay        115660           87.0                 313347   \n",
      "3      #4      RanbooLive         85632          145.9                 346132   \n",
      "4      #5  GeorgeNotFound        168391            9.6                 307439   \n",
      "..    ...             ...           ...            ...                    ...   \n",
      "495  #496        singsing          4054          190.4                  24068   \n",
      "496  #497          uhSnow          4790          135.5                  36954   \n",
      "497  #498     los_jotinha          5280          117.8                  15225   \n",
      "498  #499     momo_sports          6653           57.3                  21197   \n",
      "499  #500          ScreaM          8992           11.1                  27007   \n",
      "\n",
      "     Hours Watched  Followers Gained  Total Followers  Total Views  \\\n",
      "0         29880024          -2454132          5558385    331965084   \n",
      "1          2822624            462438          5102244     44524063   \n",
      "2         10066242            435339          8368359    129448575   \n",
      "3         12496595            438160          2567938     33990085   \n",
      "4          1610944            157766          3335146     14148526   \n",
      "..             ...               ...              ...          ...   \n",
      "495         771853             -8380           587531     91867822   \n",
      "496         648957              5320           169326     10168408   \n",
      "497         621974             87369           101861       432767   \n",
      "498         380844              4624            38877      3653347   \n",
      "499         100019             14612          1211759     27587428   \n",
      "\n",
      "     Unnamed: 9                                        Unnamed: 10  \n",
      "0           NaN  Glossary - All stats are for the month of Apri...  \n",
      "1           NaN  Rank - based on average concurrent viewers, fo...  \n",
      "2           NaN  Avg. Viewers - Average number of viewers per s...  \n",
      "3           NaN  Time Streamed - Total time (in hours) streamed...  \n",
      "4           NaN  All-Time Peak Viewers - Peak number of viewers...  \n",
      "..          ...                                                ...  \n",
      "495         NaN                                                NaN  \n",
      "496         NaN                                                NaN  \n",
      "497         NaN                                                NaN  \n",
      "498         NaN                                                NaN  \n",
      "499         NaN                                                NaN  \n",
      "\n",
      "[500 rows x 11 columns]\n"
     ]
    }
   ],
   "source": [
    "data = pd.read_csv(\"April 2021.csv\")\n",
    "print(data)"
   ]
  },
  {
   "cell_type": "code",
   "execution_count": 75,
   "id": "7d7a0180",
   "metadata": {},
   "outputs": [
    {
     "name": "stdout",
     "output_type": "stream",
     "text": [
      "     Rank         Channel  Avg. Viewers  Time Streamed  All-Time Peak Viewers  \\\n",
      "0      #1           xQcOW         89542          333.7                 222720   \n",
      "1      #2      tommyinnit        258561           10.9                 650237   \n",
      "2      #3       auronplay        115660           87.0                 313347   \n",
      "3      #4      RanbooLive         85632          145.9                 346132   \n",
      "4      #5  GeorgeNotFound        168391            9.6                 307439   \n",
      "..    ...             ...           ...            ...                    ...   \n",
      "495  #496        singsing          4054          190.4                  24068   \n",
      "496  #497          uhSnow          4790          135.5                  36954   \n",
      "497  #498     los_jotinha          5280          117.8                  15225   \n",
      "498  #499     momo_sports          6653           57.3                  21197   \n",
      "499  #500          ScreaM          8992           11.1                  27007   \n",
      "\n",
      "     Hours Watched  Followers Gained  Total Followers  Total Views  \n",
      "0         29880024          -2454132          5558385    331965084  \n",
      "1          2822624            462438          5102244     44524063  \n",
      "2         10066242            435339          8368359    129448575  \n",
      "3         12496595            438160          2567938     33990085  \n",
      "4          1610944            157766          3335146     14148526  \n",
      "..             ...               ...              ...          ...  \n",
      "495         771853             -8380           587531     91867822  \n",
      "496         648957              5320           169326     10168408  \n",
      "497         621974             87369           101861       432767  \n",
      "498         380844              4624            38877      3653347  \n",
      "499         100019             14612          1211759     27587428  \n",
      "\n",
      "[500 rows x 9 columns]\n"
     ]
    }
   ],
   "source": [
    "data = data.iloc[: , :-2]#drop last two cols of data\n",
    "print(data)"
   ]
  },
  {
   "cell_type": "markdown",
   "id": "653f5547",
   "metadata": {},
   "source": [
    "# Making a function to find max of specfied collum"
   ]
  },
  {
   "cell_type": "code",
   "execution_count": 76,
   "id": "c998f730",
   "metadata": {},
   "outputs": [],
   "source": [
    "def findMax(col):\n",
    "    #get most amout\n",
    "    maxValue = data[col].max()\n",
    "    #get name of the person who had that amopunt\n",
    "    return(data.loc[data[col] == maxValue,[\"Channel\"]])"
   ]
  },
  {
   "cell_type": "markdown",
   "id": "bb9aaa81",
   "metadata": {},
   "source": [
    "# Q1."
   ]
  },
  {
   "cell_type": "code",
   "execution_count": 77,
   "id": "d5d2d1c4",
   "metadata": {},
   "outputs": [
    {
     "name": "stdout",
     "output_type": "stream",
     "text": [
      "A- Time Streamed     Channel\n",
      "68  otplol_\n",
      "\n",
      "B- All-Time Peak Viewers      Channel\n",
      "24  TheGrefg\n",
      "\n",
      "C- Hours Watched   Channel\n",
      "0   xQcOW\n",
      "\n",
      "D- Total Followers     Channel\n",
      "134   Ninja\n",
      "\n",
      "E- Total Views        Channel\n",
      "26  Fextralife\n",
      "\n"
     ]
    }
   ],
   "source": [
    "#Most Time Streamed\n",
    "print(\"A-\",\"Time Streamed\",findMax(\"Time Streamed\"))\n",
    "print()\n",
    "#All-Time Peak Viewers\n",
    "print(\"B-\",\"All-Time Peak Viewers\",findMax(\"All-Time Peak Viewers\"))\n",
    "print()\n",
    "#Hours Watched\n",
    "print(\"C-\",\"Hours Watched\",findMax(\"Hours Watched\"))\n",
    "print()\n",
    "#Total Followers\n",
    "print(\"D-\",\"Total Followers\",findMax(\"Total Followers\"))\n",
    "print()\n",
    "#Total Views\n",
    "print(\"E-\",\"Total Views\",findMax(\"Total Views\"))\n",
    "print()"
   ]
  },
  {
   "cell_type": "markdown",
   "id": "da18da24",
   "metadata": {},
   "source": [
    "# Q2. Most follower gain"
   ]
  },
  {
   "cell_type": "code",
   "execution_count": 78,
   "id": "c91fc0b1",
   "metadata": {},
   "outputs": [
    {
     "name": "stdout",
     "output_type": "stream",
     "text": [
      "Followers Gained      Channel\n",
      "13  AdinRoss\n",
      "\n"
     ]
    }
   ],
   "source": [
    "#Followers Gained\n",
    "print(\"Followers Gained\",findMax(\"Followers Gained\"))\n",
    "print()"
   ]
  },
  {
   "cell_type": "markdown",
   "id": "a6b5e7ad",
   "metadata": {},
   "source": [
    "# Most follower loss"
   ]
  },
  {
   "cell_type": "code",
   "execution_count": 79,
   "id": "88f2dfe0",
   "metadata": {},
   "outputs": [
    {
     "name": "stdout",
     "output_type": "stream",
     "text": [
      "Followers Lost        Channel\n",
      "58  sodapoppin\n"
     ]
    }
   ],
   "source": [
    "#get most amout of followers lossed\n",
    "topFollowerLoss = data[\"Followers Gained\"].min()\n",
    "#get name of the person who had that amopunt lossed\n",
    "print(\"Followers Lost\",data.loc[data[\"Followers Gained\"] == topFollowerLoss,[\"Channel\"]])"
   ]
  },
  {
   "cell_type": "markdown",
   "id": "500f3258",
   "metadata": {},
   "source": [
    "# Corrilation between time streamed and followers gained?"
   ]
  },
  {
   "cell_type": "code",
   "execution_count": 80,
   "id": "d519f4dd",
   "metadata": {},
   "outputs": [
    {
     "data": {
      "text/plain": [
       "Text(0.5, 1.0, 'Followers gined compaired to hours streamed')"
      ]
     },
     "execution_count": 80,
     "metadata": {},
     "output_type": "execute_result"
    },
    {
     "data": {
      "image/png": "[encoded data removed]",
      "text/plain": [
       "<Figure size 432x288 with 1 Axes>"
      ]
     },
     "metadata": {
      "needs_background": "light"
     },
     "output_type": "display_data"
    }
   ],
   "source": [
    "followers = data[\"Followers Gained\"].tolist()\n",
    "streamTimes = data[\"Time Streamed\"].tolist()\n",
    "plt.scatter(streamTimes,followers)\n",
    "plt.xlabel(\"Timed Streamed in hours\")\n",
    "plt.ylabel(\"Followers Gained in millions\")\n",
    "plt.title(\"Followers gined compaired to hours streamed\")"
   ]
  },
  {
   "cell_type": "markdown",
   "id": "e7055a47",
   "metadata": {},
   "source": [
    "There seems to be no correlation"
   ]
  },
  {
   "cell_type": "markdown",
   "id": "949e8a0a",
   "metadata": {},
   "source": [
    "# Question 4"
   ]
  },
  {
   "cell_type": "markdown",
   "id": "2c8d8178",
   "metadata": {},
   "source": [
    "average viewers multiplied by time streamed equate (roughly) to hours watched?"
   ]
  },
  {
   "cell_type": "code",
   "execution_count": 81,
   "id": "70c1c31d",
   "metadata": {},
   "outputs": [
    {
     "name": "stdout",
     "output_type": "stream",
     "text": [
      "[29880165.4, 2818314.9, 10062420.0, 12493708.8, 1616553.6, 16951678.8, 12003609.6, 14100542.4, 16313166.0, 1939905.5, 8320579.2, 9119142.8, 9174465.0, 5887453.2, 3053972.3, 906313.2, 3977623.8, 6170649.0, 8771094.6, 7455894.2, 8150508.0, 8411138.4, 7253516.7, 7927416.3, 5193976.0, 3998158.9, 4251142.5, 4962018.0, 3671064.0, 2969435.7, 5940815.3, 570166.7, 2786895.0, 1152110.7, 7564545.6, 4677955.8, 3911302.6, 1772700.0, 3696838.0, 6423532.2, 679384.8, 4629900.9, 4248895.2, 3888940.0, 5931520.0, 4472025.1, 5143763.1, 2067795.0, 1218051.0, 2619274.1, 4030874.7, 386614.8, 1008450.0, 2690469.6, 3703470.3, 2040673.3, 4744324.2, 3482913.0, 3905094.2, 1057264.0, 4335969.6, 3605465.6, 3237871.0, 3775200.0, 3044037.2, 3079296.0, 1482643.2, 4081986.5, 4825686.5, 3534302.4, 3658046.0, 3784034.8, 1566229.5, 3114386.2, 2786407.0, 1955255.3, 758551.5, 3053042.4, 2639104.0, 1552747.2, 2132904.0, 2566860.0, 2770177.2, 2284686.6, 2617162.2, 3272712.8, 3185244.0, 974213.5, 1892923.2, 3079403.8, 1244821.8, 898194.5, 2179586.7, 1787856.0, 2091857.3, 1634311.0, 3025895.4, 3217456.2, 1429296.0, 638444.8, 2586236.8, 1640098.2, 2394964.0, 1481384.6, 2499244.0, 2449980.9, 2252040.0, 1690546.4, 1715553.0, 1989326.7, 1737459.2, 1881827.4, 2203704.0, 2103868.5, 699137.8, 2933885.0, 2431464.0, 2553001.5, 1856092.6, 385451.2, 1576997.1, 2591138.2, 2539523.8, 1690424.5, 1873712.8, 1655945.6, 282838.5, 1471170.0, 2066310.0, 2020245.2, 1998861.0, 1244354.4, 1720172.2, 608922.8, 1862882.8, 1970890.9, 2247997.4, 2259818.2, 349761.6, 1814250.0, 949053.6, 851951.1, 564889.6, 2494638.0, 281636.4, 1843262.1, 2281734.6, 2118880.5, 2120370.0, 397250.0, 2062308.0, 1636960.0, 1608814.0, 1966360.0, 479987.0, 2072745.5, 1878105.6, 1229900.8, 1738977.6, 1342434.6, 1608374.4, 441334.6, 1807176.5, 1514786.4, 1775983.5, 825660.1, 1200078.0, 1516600.8, 2409856.0, 1164660.0, 821159.1, 1573033.7, 1858673.0, 832633.9, 775878.2, 660570.0, 1629225.6, 668082.8, 893779.2, 1258259.0, 1470225.9, 1544473.8, 1397241.9, 738062.1, 893503.0, 645661.8, 1048678.4, 440623.3, 1792485.0, 1294137.9, 1644484.0, 1014808.9, 1288248.7, 151678.2, 1931614.2, 172386.8, 1049305.6, 1500354.0, 1447721.1, 1282494.0, 491466.0, 1357534.4, 1525617.5, 1168981.1, 1849585.8, 900225.0, 1541033.0, 1445258.1, 1584278.8, 1285501.2, 1637364.4, 1478170.8, 1287693.8, 1244525.4, 140544.0, 1200015.0, 1233924.4, 1537335.2, 881410.8, 842994.4, 1572595.2, 1064175.0, 1586768.4, 1178563.5, 158925.5, 702978.9, 301862.4, 1300972.0, 1159725.0, 294348.6, 1049704.4, 421968.9, 302240.0, 1508214.0, 706629.0, 1080704.0, 1041725.6, 920829.0, 1371370.6, 777377.6, 227519.6, 675491.6, 809340.3, 1321897.5, 542694.6, 1122010.0, 568352.7, 602223.9, 154671.4, 1113644.4, 1260538.5, 1484782.9, 1334833.8, 1036425.6, 140400.0, 923548.5, 1696639.4, 1450084.8, 1264245.0, 1432052.8, 1253145.6, 405360.0, 1219534.0, 888041.0, 1265628.0, 748562.5, 959215.0, 520785.0, 1582468.0, 961717.0, 1343181.0, 1166165.7, 1272348.0, 731194.0, 1168690.0, 1245875.4, 719634.6, 1251927.4, 493408.8, 957125.0, 269209.6, 1006891.2, 1240123.5, 701378.1, 835554.0, 1574095.6, 863550.0, 1092301.7, 1445371.7, 836404.5, 726244.6, 971093.9, 1592520.3, 305936.4, 1063408.5, 1259609.7, 1047501.2, 110712.0, 1090427.8, 1145755.5, 1095292.2, 1162624.0, 699152.5, 637542.4, 240999.1, 834201.9, 725868.0, 645903.6, 779102.6, 838004.2, 635474.5, 1090001.7, 557170.9, 897724.8, 480385.1, 962402.6, 977334.5, 593168.0, 596905.2, 559165.1, 585809.9, 899600.1, 1111323.2, 461561.7, 795496.1, 499699.2, 677273.4, 523627.2, 1116508.5, 411213.6, 650025.0, 935401.5, 1078102.0, 661472.6, 1070496.6, 550968.8, 620724.0, 964300.8, 1115553.6, 963556.0, 772163.2, 1022558.5, 912236.4, 906833.9, 843917.2, 1295036.4, 700335.0, 464872.5, 948732.3, 871687.2, 120275.4, 624153.6, 247086.0, 278282.4, 1176033.6, 761347.4, 815904.0, 823596.8, 87472.0, 983477.7, 838381.2, 1017427.0, 905590.0, 585162.4, 978444.7, 762516.3, 1068225.8, 468309.0, 1230953.0, 825973.2, 721620.9, 618426.9, 495765.0, 391188.6, 857265.8, 1260672.0, 768936.3, 1042535.7, 914792.9, 654172.4, 743817.9, 350833.2, 821803.8, 104512.0, 446791.8, 757811.6, 720946.0, 462142.1, 355191.0, 441210.0, 397036.8, 748093.5, 956719.2, 807450.0, 835027.2, 838859.8, 413850.5, 604614.4, 160414.8, 412686.5, 432213.2, 841059.0, 819720.0, 829801.2, 543636.9, 306860.0, 500887.5, 706748.0, 861565.2, 623149.2, 872156.1, 794172.0, 306009.5, 432827.8, 613930.9, 301800.2, 428012.0, 719231.4, 1172385.5, 854494.2, 781018.8, 779727.6, 813478.3, 673648.0, 77679.3, 1265756.7, 114114.0, 742403.2, 813825.6, 129162.6, 770924.8, 922834.5, 592195.5, 872948.0, 621993.6, 586090.0, 547066.5, 596782.4, 232892.6, 575752.0, 499990.4, 682660.0, 665657.2, 623221.5, 596820.0, 778966.8, 875289.6, 147956.8, 857654.4, 816825.9, 974006.2, 814647.6, 653640.0, 820520.5, 129444.0, 815572.8, 750035.6, 718805.4, 826532.5, 651118.5, 408369.0, 340947.4, 793179.2, 798183.0, 425248.5, 367854.4, 631386.7, 711659.9, 356401.5, 700199.5, 532643.5, 568374.4, 839270.4, 786144.0, 548412.0, 244567.1, 767791.2, 643750.4, 563700.3, 349505.0, 703584.0, 708851.8, 727039.5, 444939.0, 449891.5, 667348.3, 552317.5, 730584.0, 819363.4, 879424.5, 630744.8, 782605.2, 573353.0, 608232.9, 630079.1, 771881.6, 649045.0, 621984.0, 381216.9, 99811.2]\n"
     ]
    }
   ],
   "source": [
    "advViewer = data[\"Avg. Viewers\"].tolist()\n",
    "streamTimes = data[\"Time Streamed\"].tolist()\n",
    "estHoursWatched = [round(advViewer[i]*streamTimes[i],1) for i in range(len(advViewer))]\n",
    "print(estHoursWatched)"
   ]
  },
  {
   "cell_type": "markdown",
   "id": "1ceed7f5",
   "metadata": {},
   "source": [
    "finding diffrence between our est and the actual values"
   ]
  },
  {
   "cell_type": "code",
   "execution_count": 82,
   "id": "d18ac92f",
   "metadata": {},
   "outputs": [
    {
     "name": "stdout",
     "output_type": "stream",
     "text": [
      "[141.4, 4309.1, 3822.0, 2886.2, 5609.6, 1324.8, 24.6, 1591.6, 1443.0, 5.5, 55.8, 3315.8, 2098.0, 1398.2, 1637.7, 3072.2, 1372.8, 1912.0, 1722.6, 1426.2, 732.0, 541.6, 2021.7, 152.7, 34.0, 40.1, 44.5, 696.0, 1621.0, 5.3, 459.7, 1782.7, 23.0, 2170.7, 649.6, 619.2, 1326.4, 5.0, 705.0, 590.8, 1836.8, 98.9, 542.8, 56.0, 340.0, 359.1, 326.9, 1969.0, 2262.0, 1007.1, 1050.7, 2450.8, 11.0, 1044.6, 1130.3, 554.7, 451.2, 1142.0, 937.2, 1181.0, 751.6, 305.4, 346.0, 609.0, 0.8, 335.0, 575.8, 482.5, 136.5, 518.4, 233.0, 517.2, 513.5, 718.2, 24.0, 1290.3, 2062.5, 191.6, 860.0, 17.8, 11.0, 333.0, 946.2, 386.6, 49.2, 161.2, 201.0, 9.5, 1142.2, 66.2, 1348.8, 457.5, 337.7, 744.0, 21.7, 2.0, 462.6, 358.2, 746.0, 721.8, 256.2, 620.8, 286.0, 705.4, 723.0, 178.9, 3.0, 334.4, 40.0, 828.7, 649.8, 45.6, 193.0, 564.5, 735.8, 415.0, 295.0, 258.5, 512.6, 627.2, 597.9, 112.2, 360.8, 208.5, 707.8, 321.4, 808.5, 34.0, 245.0, 27.2, 44.0, 966.4, 644.2, 101.8, 61.8, 43.9, 112.4, 184.8, 825.6, 149.0, 483.4, 618.1, 189.6, 402.0, 522.6, 412.9, 478.6, 59.5, 223.0, 880.0, 146.0, 468.0, 500.0, 256.0, 448.0, 268.5, 85.4, 22.2, 39.6, 178.4, 194.6, 656.6, 425.5, 388.6, 30.5, 524.9, 9.0, 39.8, 391.0, 196.0, 846.1, 129.3, 177.0, 381.1, 434.8, 392.0, 197.4, 441.8, 820.2, 345.0, 68.9, 159.2, 597.9, 380.1, 284.0, 339.2, 594.4, 534.3, 310.0, 217.1, 149.0, 2.9, 5.7, 346.2, 106.8, 887.8, 348.4, 113.0, 135.9, 354.0, 120.0, 507.4, 396.5, 224.9, 22.2, 116.0, 48.0, 288.1, 209.2, 319.8, 306.4, 75.8, 106.8, 188.4, 3.0, 501.0, 253.6, 225.2, 192.2, 98.4, 102.8, 344.0, 145.6, 421.5, 13.5, 85.1, 393.4, 220.0, 280.0, 602.6, 17.6, 823.9, 46.0, 62.0, 292.0, 321.0, 297.6, 242.0, 206.4, 75.6, 47.6, 391.6, 326.3, 115.5, 99.4, 57.0, 143.3, 365.1, 203.6, 1.6, 256.5, 345.9, 290.8, 218.4, 269.0, 245.5, 19.4, 119.2, 161.0, 160.8, 219.4, 222.0, 167.0, 34.0, 233.0, 175.5, 300.0, 359.0, 256.0, 131.0, 3.0, 58.7, 296.0, 243.0, 273.0, 278.4, 47.6, 96.4, 395.2, 279.0, 569.6, 231.2, 51.5, 317.1, 409.0, 323.4, 173.0, 133.7, 170.3, 468.5, 283.6, 5.1, 96.7, 403.4, 367.5, 94.7, 212.2, 505.0, 110.2, 209.5, 71.8, 291.0, 442.5, 144.6, 508.9, 218.1, 274.0, 229.6, 230.4, 248.2, 183.5, 319.7, 156.9, 280.8, 63.1, 213.4, 111.5, 234.0, 214.8, 250.1, 205.9, 151.9, 65.8, 168.7, 16.9, 94.8, 62.6, 34.8, 136.5, 131.6, 333.0, 39.5, 269.0, 18.4, 244.6, 455.8, 155.0, 319.8, 75.4, 43.0, 298.2, 186.5, 142.4, 297.9, 237.2, 8.4, 261.0, 343.5, 144.7, 54.2, 239.6, 279.6, 178.0, 130.4, 237.6, 97.6, 47.0, 136.8, 469.0, 110.7, 258.8, 284.0, 368.0, 460.4, 226.7, 235.7, 230.2, 190.0, 119.0, 1.2, 55.1, 164.9, 280.0, 211.6, 315.8, 310.0, 122.7, 12.7, 29.1, 95.4, 2.9, 353.2, 122.2, 141.0, 241.8, 8.6, 215.0, 142.9, 273.0, 298.0, 487.8, 10.5, 161.2, 200.0, 0.8, 238.2, 109.5, 67.6, 351.8, 140.5, 373.2, 187.0, 245.0, 284.2, 70.1, 210.0, 29.5, 130.0, 302.2, 238.2, 114.1, 38.0, 436.5, 0.2, 215.9, 383.2, 288.0, 240.4, 183.5, 79.2, 216.2, 209.6, 191.3, 128.0, 205.7, 284.3, 94.0, 137.2, 84.6, 567.6, 82.2, 33.5, 151.5, 156.0, 98.4, 57.0, 122.5, 146.4, 519.6, 102.0, 205.6, 18.0, 216.2, 169.5, 153.0, 96.2, 239.6, 189.8, 79.6, 167.9, 134.8, 199.4, 139.0, 103.5, 403.0, 10.8, 8.4, 92.6, 47.5, 200.5, 359.0, 158.6, 129.8, 102.0, 268.5, 181.6, 200.3, 59.1, 81.5, 29.5, 132.5, 75.6, 4.6, 85.0, 143.0, 18.9, 201.8, 129.4, 287.3, 12.0, 136.0, 8.2, 113.5, 110.0, 62.5, 140.3, 57.5, 32.0, 178.6, 166.5, 163.8, 75.8, 128.0, 57.1, 217.1, 28.6, 88.0, 10.0, 372.9, 207.8]\n",
      "Max diffrence 5609.6\n",
      "Min diffrence 0.2\n"
     ]
    }
   ],
   "source": [
    "hoursWatched = data[\"Hours Watched\"].tolist()\n",
    "difHoursWatched = []\n",
    "for i in range(len(estHoursWatched)):\n",
    "    difHoursWatched.append(round(abs(estHoursWatched[i]-hoursWatched[i]),1))\n",
    "print(difHoursWatched)\n",
    "print(\"Max diffrence\",max(difHoursWatched))\n",
    "print(\"Min diffrence\",min(difHoursWatched))"
   ]
  },
  {
   "cell_type": "markdown",
   "id": "6efd874a",
   "metadata": {},
   "source": [
    "This method seems very hit or miss, being anywhere from .2hours off all the way to 5609.6 hours off"
   ]
  },
  {
   "cell_type": "markdown",
   "id": "e14a6fbe",
   "metadata": {},
   "source": [
    "# Question 5"
   ]
  },
  {
   "cell_type": "code",
   "execution_count": 83,
   "id": "f797b237",
   "metadata": {},
   "outputs": [
    {
     "data": {
      "image/png": "[encoded data removed]",
      "text/plain": [
       "<Figure size 432x288 with 1 Axes>"
      ]
     },
     "metadata": {
      "needs_background": "light"
     },
     "output_type": "display_data"
    }
   ],
   "source": [
    "allTimePeaks = data[\"All-Time Peak Viewers\"].sort_values()[-10:].tolist()\n",
    "peakChannels = [data[data[\"All-Time Peak Viewers\"] == i][\"Channel\"].to_string()[3:] for i in allTimePeaks]\n",
    "plt.barh(peakChannels,allTimePeaks)\n",
    "plt.xlabel(\"Peak viewers in millions\")\n",
    "plt.ylabel(\"Channel names\")\n",
    "plt.title(\"Top 10 peak viewers\")\n",
    "plt.show()"
   ]
  },
  {
   "cell_type": "markdown",
   "id": "6ab2e9e7",
   "metadata": {},
   "source": [
    "# Question 6"
   ]
  },
  {
   "cell_type": "code",
   "execution_count": 84,
   "id": "827e7e2b",
   "metadata": {},
   "outputs": [
    {
     "name": "stdout",
     "output_type": "stream",
     "text": [
      "Total hours watched: 72026.8\n"
     ]
    }
   ],
   "source": [
    "hoursStreamed = data[\"Time Streamed\"].tolist()\n",
    "print(\"Total hours watched:\",round(sum(hoursStreamed),2))"
   ]
  },
  {
   "cell_type": "markdown",
   "id": "3b5baaa3",
   "metadata": {},
   "source": [
    "# Question 7"
   ]
  },
  {
   "cell_type": "code",
   "execution_count": 85,
   "id": "bcb60edc",
   "metadata": {},
   "outputs": [
    {
     "name": "stdout",
     "output_type": "stream",
     "text": [
      "Total hours watched: 829974419\n"
     ]
    }
   ],
   "source": [
    "hoursWatched = data[\"Hours Watched\"].tolist()\n",
    "print(\"Total hours watched:\",sum(hoursWatched))"
   ]
  },
  {
   "cell_type": "markdown",
   "id": "7a5bf225",
   "metadata": {},
   "source": [
    "# Question 8"
   ]
  },
  {
   "cell_type": "code",
   "execution_count": 86,
   "id": "aaa73495",
   "metadata": {},
   "outputs": [
    {
     "name": "stdout",
     "output_type": "stream",
     "text": [
      "Most Followers in March: Ninja 16907292\n"
     ]
    }
   ],
   "source": [
    "totalFollowers = data[\"Total Followers\"].tolist()\n",
    "followersGained = data[\"Followers Gained\"].tolist()\n",
    "followersInMarch = [totalFollowers[i]-followersGained[i] for i in range(len(totalFollowers))]\n",
    "mostFollowersInMarch = 0\n",
    "for f in followersInMarch:\n",
    "    if f > mostFollowersInMarch:\n",
    "        mostFollowersInMarch = f\n",
    "channelWithMostFollowersMarch = data[data[\"Total Followers\"]-data[\"Followers Gained\"] == mostFollowersInMarch][\"Channel\"].to_string()[7:]\n",
    "print(\"Most Followers in March:\",channelWithMostFollowersMarch,mostFollowersInMarch)\n",
    "                                     "
   ]
  },
  {
   "cell_type": "code",
   "execution_count": null,
   "id": "f4f7a656",
   "metadata": {},
   "outputs": [],
   "source": []
  }
 ],
 "metadata": {
  "kernelspec": {
   "display_name": "Python 3 (ipykernel)",
   "language": "python",
   "name": "python3"
  },
  "language_info": {
   "codemirror_mode": {
    "name": "ipython",
    "version": 3
   },
   "file_extension": ".py",
   "mimetype": "text/x-python",
   "name": "python",
   "nbconvert_exporter": "python",
   "pygments_lexer": "ipython3",
   "version": "3.9.7"
  }
 },
 "nbformat": 4,
 "nbformat_minor": 5
}
